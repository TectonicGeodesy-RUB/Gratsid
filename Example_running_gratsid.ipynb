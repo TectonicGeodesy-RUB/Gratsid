{
 "cells": [
  {
   "cell_type": "markdown",
   "metadata": {
    "pycharm": {
     "name": "#%% md\n"
    }
   },
   "source": [
    "#  GrAtSiD (in development)\n",
    "\n",
    "Gratsid is contained now in one module:\n",
    "\"gratsid.py\"\n",
    "\n",
    "If you run:\n",
    "\n",
    "from gratsid import *\n",
    "\n",
    "then you will have all the gratsid functions ready to be run in your script.\n",
    "\n",
    "\n",
    "The code is written to run using tensorflow 2 with GPU.  But if no GPU is available, it will run on the CPU.\n",
    "\n",
    "If you find bugs, please report these back to me, I will get to work fixing them.\n",
    "\n",
    "Most notable features of this version are:\n",
    "\n",
    "- The sampling interval of the data ('Fs') can be specified.\n",
    "- Associated data errors can be used in the inversions (although this slows down the algorithm)\n",
    "- Seasonal oscillations are optional in the model\n",
    "- User can allow (or not allow) different types of transients in the model.  The types of transients are multi-         transients, rooted polynomials (polynomials of nth order that have magnitude zero before and during the onset time), and         Heaviside step functions.  More transient types to be added in future development.\n",
    "- The polynomial in the permanent basis functions can be of nth order (default is linear trajectory, i.e. 1st order)\n",
    "- The function automatically notices the spatial dimension of the trajectory from the number of input columns.  Therefore, there is no need to use different versions of the GrAtSiD code (previously there were 1D, 2D, 3D versions)\n",
    "\n"
   ]
  },
  {
   "cell_type": "markdown",
   "metadata": {
    "pycharm": {
     "name": "#%% md\n"
    }
   },
   "source": [
    "## Importing the required modules"
   ]
  },
  {
   "cell_type": "code",
   "execution_count": null,
   "metadata": {
    "pycharm": {
     "name": "#%%\n"
    }
   },
   "outputs": [],
   "source": [
    "import os\n",
    "os.environ['TF_ENABLE_ONEDNN_OPTS'] = '0'\n",
    "os.environ['TF_GPU_THREAD_MODE'] = 'gpu_private'\n",
    "os.environ['TF_CPP_MIN_LOG_LEVEL'] = '2'\n",
    "import numpy as np ### We will read-in data using numpy\n",
    "import matplotlib.pyplot as plt  ### We are going to plot the results in this notebook\n",
    "## The \"magic\" line below allows for plot inspection in Jupyter Notebook\n",
    "%matplotlib nbagg  \n",
    "from gratsid import *\n",
    "import datetime as dt   ### We want to read in some dates from the data\n",
    "\n",
    "#import os ## use these two lines if you want the GPU to be invisible (CPU training only)\n",
    "os.environ['CUDA_VISIBLE_DEVICES'] = '-1'  ## use these two lines if you want the GPU to be invisible (CPU training only)\n"
   ]
  },
  {
   "cell_type": "code",
   "execution_count": null,
   "metadata": {},
   "outputs": [],
   "source": [
    "print(\"Num GPUs Available: \", len(tf.config.list_physical_devices('GPU')))"
   ]
  },
  {
   "cell_type": "markdown",
   "metadata": {
    "pycharm": {
     "name": "#%% md\n"
    }
   },
   "source": [
    "## Loading in some data for this example notebook"
   ]
  },
  {
   "cell_type": "code",
   "execution_count": null,
   "metadata": {
    "pycharm": {
     "name": "#%%\n"
    }
   },
   "outputs": [],
   "source": [
    "data = np.loadtxt('./example_data/IQQE.txt')  ## yr, mo, da, E, N, U, sigE, sigN, sigU\n",
    "known_steps_in = np.loadtxt('./example_data/IQQE_yrmoda_frac.txt')"
   ]
  },
  {
   "cell_type": "markdown",
   "metadata": {
    "pycharm": {
     "name": "#%% md\n"
    }
   },
   "source": [
    "## Getting the time vector (x) from the 3 date columns"
   ]
  },
  {
   "cell_type": "code",
   "execution_count": null,
   "metadata": {
    "pycharm": {
     "name": "#%%\n"
    }
   },
   "outputs": [],
   "source": [
    "## Function for making the dates into a python \"datenum\"\n",
    "gen_jjj = np.vectorize(lambda x,y,z: dt.date.toordinal(dt.date(x,y,z)))\n",
    "x = gen_jjj(data[:,0].astype(int),data[:,1].astype(int),data[:,2].astype(int))"
   ]
  },
  {
   "cell_type": "markdown",
   "metadata": {
    "pycharm": {
     "name": "#%% md\n"
    }
   },
   "source": [
    "## Taking a quick look at the time series"
   ]
  },
  {
   "cell_type": "code",
   "execution_count": null,
   "metadata": {
    "pycharm": {
     "name": "#%%\n"
    },
    "scrolled": true
   },
   "outputs": [],
   "source": [
    "plt.figure(figsize=(10,6))\n",
    "plt.plot_date(x,data[:,3],label='E')\n",
    "plt.plot_date(x,data[:,4],label='N')\n",
    "plt.plot_date(x,data[:,5],label='U')\n",
    "plt.legend()\n",
    "plt.title('IQQE')\n",
    "plt.grid()"
   ]
  },
  {
   "cell_type": "markdown",
   "metadata": {
    "pycharm": {
     "name": "#%% md\n"
    }
   },
   "source": [
    "## Trimming the dataset so that we are dealing with data between 2009/01/01 - 2015/01/01"
   ]
  },
  {
   "cell_type": "code",
   "execution_count": null,
   "metadata": {
    "pycharm": {
     "name": "#%%\n"
    }
   },
   "outputs": [],
   "source": [
    "start_day,end_day = gen_jjj(2009,1,1),gen_jjj(2015,1,1)\n",
    "data = data[(x>=start_day)*(x<=end_day),:]\n",
    "x = x[(x>=start_day)*(x<=end_day)]\n"
   ]
  },
  {
   "cell_type": "markdown",
   "metadata": {
    "pycharm": {
     "name": "#%% md\n"
    }
   },
   "source": [
    "## Taking a look at the trimmed data"
   ]
  },
  {
   "cell_type": "code",
   "execution_count": null,
   "metadata": {
    "pycharm": {
     "name": "#%%\n"
    }
   },
   "outputs": [],
   "source": [
    "plt.figure(figsize=(10,6))\n",
    "plt.plot_date(x,data[:,3],label='E')\n",
    "plt.plot_date(x,data[:,4],label='N')\n",
    "plt.plot_date(x,data[:,5],label='U')\n",
    "plt.legend()\n",
    "plt.title('IQQE')\n",
    "plt.grid()"
   ]
  },
  {
   "cell_type": "markdown",
   "metadata": {
    "pycharm": {
     "name": "#%% md\n"
    }
   },
   "source": [
    "# Now running GrAtSiD"
   ]
  },
  {
   "cell_type": "markdown",
   "metadata": {
    "pycharm": {
     "name": "#%% md\n"
    }
   },
   "source": [
    "## Step (1):  generate the options (hyperparameters/settings)"
   ]
  },
  {
   "cell_type": "code",
   "execution_count": null,
   "metadata": {
    "pycharm": {
     "name": "#%%\n"
    }
   },
   "outputs": [],
   "source": [
    "options = generate_options()"
   ]
  },
  {
   "cell_type": "code",
   "execution_count": null,
   "metadata": {
    "pycharm": {
     "name": "#%%\n"
    }
   },
   "outputs": [],
   "source": [
    "options"
   ]
  },
  {
   "cell_type": "markdown",
   "metadata": {
    "pycharm": {
     "name": "#%% md\n"
    }
   },
   "source": [
    "For explanation of each feature, look at the code for the function 'generate_options' inside of the 'common_functions.py' module."
   ]
  },
  {
   "cell_type": "markdown",
   "metadata": {
    "pycharm": {
     "name": "#%% md\n"
    }
   },
   "source": [
    "## Step (2):  Vary the options from the defaults."
   ]
  },
  {
   "cell_type": "code",
   "execution_count": null,
   "metadata": {
    "pycharm": {
     "name": "#%%\n"
    }
   },
   "outputs": [],
   "source": [
    "options['nsols'] = 5 # Number of solutions / number of convergences\n",
    "options['fractional_tolerance'] = 0.01 # Solution must increase by this fraction\n",
    "options['max_TOs'] = 15 # Max number of Transient Onsets\n",
    "options['verbose'] = 1\n",
    "options['TO_types'] = [0, 3]\n",
    "options['res_each_side'] = 0\n",
    "\n",
    "\n",
    "options['gradient_descent'] = False ### If you want to vary interannual seasonal amplitude\n",
    "options['frac'] = 0.5  ### This controls the upper bound of the weighting on each seasonal basis function.\n",
    "                      #### if options['frac'] = 0.5, lower bound = 1, upper bound = 1.5\n",
    "options['max_its'] = 400\n",
    "options['chances'] = 50\n",
    "options['lrate'] = 1e-2\n",
    "options['damp'] = 1e-9\n",
    "options['verbose_GD'] = False\n",
    "options['S_each_side'] = 90"
   ]
  },
  {
   "cell_type": "markdown",
   "metadata": {
    "pycharm": {
     "name": "#%% md\n"
    }
   },
   "source": [
    "## Step (3): Running gratsid"
   ]
  },
  {
   "cell_type": "markdown",
   "metadata": {
    "pycharm": {
     "name": "#%% md\n"
    }
   },
   "source": [
    "You can specify the 'known_steps', or specify an empty list.  Run the option that you prefer."
   ]
  },
  {
   "cell_type": "code",
   "execution_count": null,
   "metadata": {
    "pycharm": {
     "name": "#%%\n"
    }
   },
   "outputs": [],
   "source": [
    "use_known_steps = 0  ## make 0 if you want to run without the known steps (faster)\n",
    "\n",
    "if known_steps_in.size>0:\n",
    "    if len(known_steps_in.shape) == 1:\n",
    "        known_steps_in = known_steps_in.reshape(1,4)\n",
    "    x_steps = gen_jjj(known_steps_in[:,0].astype(int),\n",
    "                      known_steps_in[:,1].astype(int),\n",
    "                      known_steps_in[:,2].astype(int))\n",
    "    known_steps = np.hstack([(x_steps-1)[:,None],known_steps_in[:,-1][:,None]])\n",
    "else:\n",
    "    known_steps = []\n",
    "\n",
    "if use_known_steps == 0:\n",
    "    known_steps = []"
   ]
  },
  {
   "cell_type": "markdown",
   "metadata": {
    "pycharm": {
     "name": "#%% md\n"
    }
   },
   "source": [
    "### An important note about \"known_steps\""
   ]
  },
  {
   "cell_type": "markdown",
   "metadata": {
    "pycharm": {
     "name": "#%% md\n"
    }
   },
   "source": [
    "Steps are treated by GrAtSiD like other transient functions such as \"multi-transients\" or \"rooted polynomials\".  This means that the **onset time** of the transient is the **last sample before transient motion**.  Therefore, if there is a pure step in the time series occuring on January 10th 2018, you need to tel GrAtSiD that the step is rooted on January 9th 2018.  In the code above, you can see that the first column of the known_steps table (where the time indices for step onsets are stored) has 1 subtracted: *(x_steps-1)*.  \n",
    "\n",
    "The second column is the fraction of the day that the step has occurred on.  Due to the typical processing flow of daily GNSS displacement time series (the type of data that GrAtSiD was originally developed for), an earthquake step will appear to be smeared over two days, depending on when in the day that earthquake occurred.  Therefore, for \"non-pure\"/\"smeared\" Heavisides used for the earthquake-related steps, we must also enter the UTC time of day that the earthquake occurred as a fraction (e.g. 0.25 if it occurred at 0600hrs, 0.75 if it occurred at 1800hrs)."
   ]
  },
  {
   "cell_type": "markdown",
   "metadata": {
    "pycharm": {
     "name": "#%% md\n"
    }
   },
   "source": [
    "## Finally ready to start curve-fitting"
   ]
  },
  {
   "cell_type": "markdown",
   "metadata": {
    "pycharm": {
     "name": "#%% md\n"
    }
   },
   "source": [
    "Now running gratsid using the function 'gratsid_fit'.  This function has the inputs:\n",
    "\n",
    "gratsid_fit(x,y,err,known_steps,options)\n",
    "\n",
    "- **x** => the time vector\n",
    "- **y** => the data vector or matrix\n",
    "- **err** => the error vector or matrix (corresponding to each data point).  If none, running without errors (faster)\n",
    "- **known_steps** => file with the onset times and fractional smearing of the known steps (fractional smearing can occur when higher-frequency sampled time series are averaged in windows; for example GNSS daily positions are often produced by taking the mean position from 30s sampling-frequency time series).\n",
    "- **options** => the options generated and edited in steps (1) and (2)\n"
   ]
  },
  {
   "cell_type": "markdown",
   "metadata": {
    "pycharm": {
     "name": "#%% md\n"
    }
   },
   "source": [
    "And so, running on a single component only:"
   ]
  },
  {
   "cell_type": "code",
   "execution_count": null,
   "metadata": {
    "pycharm": {
     "name": "#%%\n"
    },
    "scrolled": true
   },
   "outputs": [],
   "source": [
    "y = data[:,3][:,None]  ## choosing a single component.  The [:,None] makes the y into a 2D array (better than 1D array for input into gratsid)\n",
    "\n",
    "perm,sols,options_out = gratsid_fit(x,y,None,known_steps,options)"
   ]
  },
  {
   "cell_type": "markdown",
   "metadata": {
    "pycharm": {
     "name": "#%% md\n"
    }
   },
   "source": [
    "**gratsid_fit** has 2 outputs.  In this case, I have called the outputs **perm** and **sols**, but you can call these whatever you like.\n",
    "\n",
    "- **perm**  =>  A table containing the onset indices, function type, and additional parameter (depending on function type) for all PERMANENT basis functions\n",
    "\n",
    "- **sols**  =>  A list that contains the SPARSE basis functions for each solution."
   ]
  },
  {
   "cell_type": "markdown",
   "metadata": {
    "pycharm": {
     "name": "#%% md\n"
    }
   },
   "source": [
    "Taking a closer look at **perm**:"
   ]
  },
  {
   "cell_type": "code",
   "execution_count": null,
   "metadata": {
    "pycharm": {
     "name": "#%%\n"
    }
   },
   "outputs": [],
   "source": [
    "perm"
   ]
  },
  {
   "cell_type": "markdown",
   "metadata": {
    "pycharm": {
     "name": "#%% md\n"
    }
   },
   "source": [
    "In **both perm** AND **sols**, the first column represents the onset index of the basis function (e.g. 0 corresponds to the 1st sample of the input time series, and so on...).  The second column corresponds to the function type.  In this version of gratsid, there are 4 function types:\n",
    "\n",
    "- **0** => Heaviside step function (fractional smearing specified in 3rd column)\n",
    "- **1** => Polynomial applied to the whole time series (order specified in 3rd column)\n",
    "- **2** => Oscillation that is represented by sine and cosine functions (period given in the 3rd column)\n",
    "- **3** => Muti-transient.  Third column is always 0.\n",
    "- **4** => Rooted polynomial.  Instead of (or in addition to) multi-transients, gratsid can be told to find polynomials (of order n) that can begin at different times of the time series.  3rd column corresponds to the order of this polynomial."
   ]
  },
  {
   "cell_type": "markdown",
   "metadata": {
    "pycharm": {
     "name": "#%% md\n"
    }
   },
   "source": [
    "Taking a close look at **sols**"
   ]
  },
  {
   "cell_type": "code",
   "execution_count": null,
   "metadata": {
    "pycharm": {
     "name": "#%%\n"
    }
   },
   "outputs": [],
   "source": [
    "len(sols)"
   ]
  },
  {
   "cell_type": "markdown",
   "metadata": {
    "pycharm": {
     "name": "#%% md\n"
    }
   },
   "source": [
    "First of all, **sols** should be of length = options['nsols']\n",
    "Each of these lists contains another list that contains the evolution of the transient (*sparse*) functions that were found by GrAtSiD in each iteration."
   ]
  },
  {
   "cell_type": "code",
   "execution_count": null,
   "metadata": {
    "pycharm": {
     "name": "#%%\n"
    }
   },
   "outputs": [],
   "source": [
    "sols[0]"
   ]
  },
  {
   "cell_type": "markdown",
   "metadata": {
    "pycharm": {
     "name": "#%% md\n"
    }
   },
   "source": [
    "The output of the cell above is many tables.  Each table represents the transient functions found by gratsid at each iteration of this solution.  From these tables, you could reconstruct the evolution of the fit for this particular solution (*convergence*).  Accordingly, it is the **final table that contains the converged solution**:"
   ]
  },
  {
   "cell_type": "code",
   "execution_count": null,
   "metadata": {
    "pycharm": {
     "name": "#%%\n"
    }
   },
   "outputs": [],
   "source": [
    "sols[0][-1]"
   ]
  },
  {
   "cell_type": "markdown",
   "metadata": {
    "pycharm": {
     "name": "#%% md\n"
    }
   },
   "source": [
    "In output of the cell above, you can see the transient (*sparse*) basis functions for solution 1."
   ]
  },
  {
   "cell_type": "code",
   "execution_count": null,
   "metadata": {
    "pycharm": {
     "name": "#%%\n"
    }
   },
   "outputs": [],
   "source": [
    "if len(sols) > 1:\n",
    "    sols[1][-1]"
   ]
  },
  {
   "cell_type": "markdown",
   "metadata": {
    "pycharm": {
     "name": "#%% md\n"
    }
   },
   "source": [
    "In output of the cell above, you can see the transient (*sparse*) basis functions for solution 2."
   ]
  },
  {
   "cell_type": "markdown",
   "metadata": {
    "pycharm": {
     "name": "#%% md\n"
    }
   },
   "source": [
    "Note, at this point you will have noticed that the outputs of gratsid are simply tables.  The reason for this is to save disk space (if saving many solutions of long time series, for example).\n",
    "\n",
    "These tables can be recombined with the *options* to construct the trajectory model.  This leads us to the next step..."
   ]
  },
  {
   "cell_type": "markdown",
   "metadata": {
    "pycharm": {
     "name": "#%% md\n"
    }
   },
   "source": [
    "## Step (4): Using the tables to see the (decomposed) trajectory models"
   ]
  },
  {
   "cell_type": "markdown",
   "metadata": {
    "pycharm": {
     "name": "#%% md\n"
    }
   },
   "source": [
    "To do this, we will run the function 'fit_decompose' which has the inputs:\n",
    "\n",
    "fit_decompose(x,y,err,tik_mul,sols,perm_table,bigTs,Fs)\n",
    "\n",
    "- **x** => the time vector\n",
    "- **y** => the data vector or matrix\n",
    "- **err** => the error vector or matrix (corresponding to each data point).  If none, running without errors (faster)\n",
    "- **sols** => tables of solutions output by gratsid_fit function\n",
    "- **perm** => table containing the information about 'permanent' basis function that is returned by the gratsid_fit function\n",
    "- **options** => make sure to use the options ('options_out') returned by the gratsid_fit function.\n",
    "\n",
    "\n",
    "So, here is how we run this function:"
   ]
  },
  {
   "cell_type": "code",
   "execution_count": null,
   "metadata": {
    "pycharm": {
     "name": "#%%\n"
    }
   },
   "outputs": [],
   "source": [
    "signal = fit_decompose(x,y,None,sols,perm,options_out)"
   ]
  },
  {
   "cell_type": "code",
   "execution_count": null,
   "metadata": {
    "pycharm": {
     "name": "#%%\n"
    }
   },
   "outputs": [],
   "source": [
    "len(signal)"
   ]
  },
  {
   "cell_type": "markdown",
   "metadata": {
    "pycharm": {
     "name": "#%% md\n"
    }
   },
   "source": [
    "You can see that the output (that we call here **signal**, but which can be called whatever you like) has a length of 6.  The first 5 lists correspond to the signal types (note that in Python we count from 0, and that these list indices correspond to the basis function types previously defined):\n",
    "\n",
    "- **signal[0]** => Heaviside step functions \n",
    "- **signal[1]** => Polynomial applied to the whole time series\n",
    "- **signal[2]** => Oscillations\n",
    "- **signal[3]** => Muti-transients\n",
    "- **signal[4]** => Rooted polynomials\n",
    "\n",
    "The 6th list contains the residuals (input time series minus the full trajectory models):\n",
    "- **signal[5]** => Residuals"
   ]
  },
  {
   "cell_type": "markdown",
   "metadata": {
    "pycharm": {
     "name": "#%% md\n"
    }
   },
   "source": [
    "Now, let's take a look at how these signal portions are arranged:"
   ]
  },
  {
   "cell_type": "code",
   "execution_count": null,
   "metadata": {
    "pycharm": {
     "name": "#%%\n"
    }
   },
   "outputs": [],
   "source": [
    "type(signal[0])"
   ]
  },
  {
   "cell_type": "markdown",
   "metadata": {
    "pycharm": {
     "name": "#%% md\n"
    }
   },
   "source": [
    "As we see in output of above cell, each signal type contains a list..."
   ]
  },
  {
   "cell_type": "code",
   "execution_count": null,
   "metadata": {
    "pycharm": {
     "name": "#%%\n"
    }
   },
   "outputs": [],
   "source": [
    "len(signal[0])"
   ]
  },
  {
   "cell_type": "markdown",
   "metadata": {
    "pycharm": {
     "name": "#%% md\n"
    }
   },
   "source": [
    "and the length of this list is the number of solutions (number of convergences = **options['nsols']**)."
   ]
  },
  {
   "cell_type": "code",
   "execution_count": null,
   "metadata": {
    "pycharm": {
     "name": "#%%\n"
    }
   },
   "outputs": [],
   "source": [
    "signal[0][0].shape"
   ]
  },
  {
   "cell_type": "markdown",
   "metadata": {
    "pycharm": {
     "name": "#%% md\n"
    }
   },
   "source": [
    "Now, if we make each signal portion a Numpy array, we have a tensor of the following shape:"
   ]
  },
  {
   "cell_type": "code",
   "execution_count": null,
   "metadata": {
    "pycharm": {
     "name": "#%%\n"
    }
   },
   "outputs": [],
   "source": [
    "np.array(signal[0]).shape"
   ]
  },
  {
   "cell_type": "markdown",
   "metadata": {
    "pycharm": {
     "name": "#%% md\n"
    }
   },
   "source": [
    "where the 1st dimension of this tensor is the number of solutions, 2nd dimension is number of samples in the time series, and 3rd dimension is the number of dimensions of the input data (1, in this simple example)."
   ]
  },
  {
   "cell_type": "markdown",
   "metadata": {
    "pycharm": {
     "name": "#%% md\n"
    }
   },
   "source": [
    "With these signal portions, you can reconstruct the trajectory models.  You have everything - all portions of the trajectory model and also the residuals.  Here are a few labelled examples"
   ]
  },
  {
   "cell_type": "code",
   "execution_count": null,
   "metadata": {
    "pycharm": {
     "name": "#%%\n"
    }
   },
   "outputs": [],
   "source": [
    "np.array(signal[5][0])"
   ]
  },
  {
   "cell_type": "code",
   "execution_count": null,
   "metadata": {
    "pycharm": {
     "name": "#%%\n"
    }
   },
   "outputs": [],
   "source": [
    "plt.figure(figsize=(10,6))\n",
    "plt.plot(x,y,label='y')\n",
    "for i in range(options['nsols']):\n",
    "    plt.plot(x,y-np.array(signal[5][i]),'r')\n",
    "    \n",
    "plt.legend()\n",
    "plt.title('Full trajectory models for all solutions')"
   ]
  },
  {
   "cell_type": "code",
   "execution_count": null,
   "metadata": {},
   "outputs": [],
   "source": [
    "tf.__version__"
   ]
  },
  {
   "cell_type": "code",
   "execution_count": null,
   "metadata": {
    "pycharm": {
     "name": "#%%\n"
    }
   },
   "outputs": [],
   "source": [
    "plt.figure()\n",
    "plt.plot(x,y-np.nanmedian(np.array(signal[2]),axis=0),label='y - (median of oscillations)')\n",
    "for i in range(options['nsols']):\n",
    "    plt.plot(x,y-np.array(signal[5][i])-np.array(signal[2][i]),'r')\n",
    "    \n",
    "plt.legend()\n",
    "plt.title('Trajectory models for all solutions (without seasonals)')"
   ]
  },
  {
   "cell_type": "markdown",
   "metadata": {
    "pycharm": {
     "name": "#%% md\n"
    }
   },
   "source": [
    "## If we are using gradient descent then we can look at the different solutions for the time weighted oscillations\n",
    "#### Use the zoom function of the plotting window to check the extent of oscillation variation from year to year"
   ]
  },
  {
   "cell_type": "code",
   "execution_count": null,
   "metadata": {
    "pycharm": {
     "name": "#%%\n"
    }
   },
   "outputs": [],
   "source": [
    "if options['gradient_descent'] == True:\n",
    "    plt.figure();\n",
    "    for i in range(options['nsols']):\n",
    "        plt.plot(x,np.array(signal[2][i]),'b.')\n",
    "\n",
    "    plt.grid()"
   ]
  },
  {
   "cell_type": "code",
   "execution_count": null,
   "metadata": {},
   "outputs": [],
   "source": []
  }
 ],
 "metadata": {
  "kernelspec": {
   "display_name": "Python 3",
   "language": "python",
   "name": "python3"
  },
  "language_info": {
   "codemirror_mode": {
    "name": "ipython",
    "version": 3
   },
   "file_extension": ".py",
   "mimetype": "text/x-python",
   "name": "python",
   "nbconvert_exporter": "python",
   "pygments_lexer": "ipython3",
   "version": "3.8.10"
  }
 },
 "nbformat": 4,
 "nbformat_minor": 4
}
